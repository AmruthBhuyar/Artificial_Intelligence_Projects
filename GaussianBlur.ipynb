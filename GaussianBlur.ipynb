{
 "cells": [
  {
   "cell_type": "code",
   "execution_count": 3,
   "id": "3e91677e",
   "metadata": {},
   "outputs": [],
   "source": [
    "#Blur the Image using Gaussian Blur"
   ]
  },
  {
   "cell_type": "code",
   "execution_count": 2,
   "id": "00b9f088",
   "metadata": {},
   "outputs": [
    {
     "data": {
      "text/plain": [
       "True"
      ]
     },
     "execution_count": 2,
     "metadata": {},
     "output_type": "execute_result"
    }
   ],
   "source": [
    "import cv2\n",
    "img = cv2.imread(\"sample.jpg\")\n",
    "gaussianBlurImg = cv2.GaussianBlur(img,(21,21),0)\n",
    "cv2.imwrite(\"gaussianImage.jpg\",gaussianBlurImg)"
   ]
  },
  {
   "cell_type": "code",
   "execution_count": null,
   "id": "11968dbc",
   "metadata": {},
   "outputs": [],
   "source": []
  },
  {
   "cell_type": "code",
   "execution_count": 4,
   "id": "02ef3e66",
   "metadata": {},
   "outputs": [],
   "source": [
    "# Gray Scale Image Conversion"
   ]
  },
  {
   "cell_type": "code",
   "execution_count": 9,
   "id": "0bd7efce",
   "metadata": {},
   "outputs": [
    {
     "data": {
      "text/plain": [
       "True"
      ]
     },
     "execution_count": 9,
     "metadata": {},
     "output_type": "execute_result"
    }
   ],
   "source": [
    "import cv2\n",
    "img = cv2.imread(\"sample.jpg\")\n",
    "grayImg = cv2.cvtColor(img,cv2.COLOR_BGR2GRAY)\n",
    "thresImg = cv2.threshold(grayImg, 150, 255, cv2.THRESH_BINARY)[1]\n",
    "cv2.imwrite(\"ThresholdImage.jpg\",thresImg)"
   ]
  },
  {
   "cell_type": "code",
   "execution_count": 10,
   "id": "92754c5d",
   "metadata": {},
   "outputs": [
    {
     "data": {
      "text/plain": [
       "True"
      ]
     },
     "execution_count": 10,
     "metadata": {},
     "output_type": "execute_result"
    }
   ],
   "source": [
    "import cv2\n",
    "img = cv2.imread(\"sample.jpg\")\n",
    "grayImg = cv2.cvtColor(img,cv2.COLOR_BGR2GRAY)\n",
    "thresImg = cv2.threshold(grayImg, 80, 255, cv2.THRESH_BINARY)[1]\n",
    "cv2.imwrite(\"ThresholdImage2.jpg\",thresImg)"
   ]
  },
  {
   "cell_type": "code",
   "execution_count": null,
   "id": "dc2669e9",
   "metadata": {},
   "outputs": [],
   "source": []
  },
  {
   "cell_type": "code",
   "execution_count": null,
   "id": "7e898fb3",
   "metadata": {},
   "outputs": [],
   "source": []
  },
  {
   "cell_type": "code",
   "execution_count": null,
   "id": "1b80a984",
   "metadata": {},
   "outputs": [],
   "source": []
  },
  {
   "cell_type": "code",
   "execution_count": null,
   "id": "3a8fad2d",
   "metadata": {},
   "outputs": [],
   "source": []
  }
 ],
 "metadata": {
  "kernelspec": {
   "display_name": "Python 3 (ipykernel)",
   "language": "python",
   "name": "python3"
  },
  "language_info": {
   "codemirror_mode": {
    "name": "ipython",
    "version": 3
   },
   "file_extension": ".py",
   "mimetype": "text/x-python",
   "name": "python",
   "nbconvert_exporter": "python",
   "pygments_lexer": "ipython3",
   "version": "3.9.12"
  }
 },
 "nbformat": 4,
 "nbformat_minor": 5
}
